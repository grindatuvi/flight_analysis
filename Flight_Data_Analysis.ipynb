{
 "cells": [
  {
   "cell_type": "markdown",
   "id": "f154c110",
   "metadata": {},
   "source": [
    "# Step 1: Create Session and Load JSON Files"
   ]
  },
  {
   "cell_type": "code",
   "execution_count": 1,
   "id": "4368c91c",
   "metadata": {},
   "outputs": [
    {
     "name": "stderr",
     "output_type": "stream",
     "text": [
      "Setting default log level to \"WARN\".\n",
      "To adjust logging level use sc.setLogLevel(newLevel). For SparkR, use setLogLevel(newLevel).\n",
      "24/11/03 19:10:48 WARN NativeCodeLoader: Unable to load native-hadoop library for your platform... using builtin-java classes where applicable\n"
     ]
    }
   ],
   "source": [
    "from pyspark.sql import SparkSession\n",
    "from pyspark.sql.functions import col, from_unixtime, to_timestamp\n",
    "from pyspark import SparkContext, SparkConf\n",
    "conf_spark = SparkConf().set(\"spark.driver.host\", \"127.0.0.1\")\n",
    "sc = SparkContext(conf=conf_spark)\n",
    "\n",
    "# Initialize Spark Session\n",
    "spark = SparkSession.builder.appName(\"AirportFlightDataProcessing\").getOrCreate()\n",
    "\n",
    "# Load JSON files\n",
    "adsb_df = spark.read.json(\"adsb.json\", multiLine=True)\n",
    "oag_df = spark.read.json(\"oag.json\", multiLine=True)"
   ]
  },
  {
   "cell_type": "markdown",
   "id": "1827dae1",
   "metadata": {},
   "source": [
    "# Step 2: Remove Null Values\n",
    "Remove rows with any null values across all columns."
   ]
  },
  {
   "cell_type": "code",
   "execution_count": 21,
   "id": "9a650d8f",
   "metadata": {},
   "outputs": [],
   "source": [
    "# Drop rows with any null values in all columns\n",
    "adsb_df = adsb_df.dropna(how=\"any\")\n",
    "oag_df = oag_df.dropna(how=\"any\")"
   ]
  },
  {
   "cell_type": "markdown",
   "id": "8a2101e1",
   "metadata": {},
   "source": [
    "# Step 3: Check for Data Type Consistency in Each Column\n",
    "Let’s print the schema and inspect a few rows to see the data types in both DataFrames. This will help identify any inconsistencies, especially with nested or array fields."
   ]
  },
  {
   "cell_type": "code",
   "execution_count": 22,
   "id": "51816c7a",
   "metadata": {},
   "outputs": [
    {
     "name": "stdout",
     "output_type": "stream",
     "text": [
      "ADSB Data Schema:\n",
      "root\n",
      " |-- AircraftId: string (nullable = true)\n",
      " |-- Altitude: long (nullable = true)\n",
      " |-- Callsign: string (nullable = true)\n",
      " |-- Destination: string (nullable = true)\n",
      " |-- ETA: long (nullable = true)\n",
      " |-- Flight: string (nullable = true)\n",
      " |-- LastUpdate: timestamp (nullable = true)\n",
      " |-- Latitude: double (nullable = true)\n",
      " |-- Longitude: double (nullable = true)\n",
      " |-- Onground: long (nullable = true)\n",
      " |-- Origin: string (nullable = true)\n",
      " |-- RadarId: string (nullable = true)\n",
      " |-- Registration: string (nullable = true)\n",
      " |-- SourceType: string (nullable = true)\n",
      " |-- Speed: float (nullable = true)\n",
      " |-- Squawk: long (nullable = true)\n",
      " |-- Track: long (nullable = true)\n",
      " |-- Type: string (nullable = true)\n",
      " |-- Vspeed: long (nullable = true)\n",
      " |-- FormattedLastUpdate: string (nullable = true)\n",
      "\n",
      "+----------+--------+--------+-----------+---+------+-------------------+---------+---------+--------+------+-------+------------+--------------------+-----+------+-----+----+------+-------------------+\n",
      "|AircraftId|Altitude|Callsign|Destination|ETA|Flight|         LastUpdate| Latitude|Longitude|Onground|Origin|RadarId|Registration|          SourceType|Speed|Squawk|Track|Type|Vspeed|FormattedLastUpdate|\n",
      "+----------+--------+--------+-----------+---+------+-------------------+---------+---------+--------+------+-------+------------+--------------------+-----+------+-----+----+------+-------------------+\n",
      "|    400960|       0| BAW476C|        ICN|  0| BA484|2023-10-03 08:47:00| 37.46567|126.44048|       1|   SGN|    200|      G-TTOE|ADS-B FR24 receivers|  0.0|  7713|  120|A320|     0|2023-10-03 08:47:00|\n",
      "|    400960|       0| BAW476C|        ICN|  0| BA484|2023-10-03 05:26:29| 37.46567|126.44048|       1|   SGN|    200|      G-TTOE|ADS-B FR24 receivers|  1.0|  7713|  180|A320|     0|2023-10-03 05:26:29|\n",
      "|    400960|       0| BAW476C|        ICN|  0| BA484|2023-10-03 05:26:29| 51.47434| -0.48843|       1|   SGN|    200|      G-TTOE|ADS-B FR24 receivers|  1.0|  7713|  180|A320|     0|2023-10-03 05:26:29|\n",
      "|    400960|       0| BAW476C|        ICN|  0| BA484|2023-10-03 05:27:00| 51.47434| -0.48843|       1|   SGN|    200|      G-TTOE|ADS-B FR24 receivers|  0.0|  7713|  180|A320|     0|2023-10-03 05:27:00|\n",
      "|     A7LAF|       0|  QTR476|        SYZ|  0| QR476|2023-10-03 07:55:35|25.276987|51.520008|       1|   DOH|    200|       A7LAF|ADS-B FR24 receivers|  0.0|  7713|  180|A320|     0|2023-10-03 07:55:35|\n",
      "+----------+--------+--------+-----------+---+------+-------------------+---------+---------+--------+------+-------+------------+--------------------+-----+------+-----+----+------+-------------------+\n",
      "only showing top 5 rows\n",
      "\n",
      "OAG Data Schema:\n",
      "root\n",
      " |-- data: array (nullable = true)\n",
      " |    |-- element: struct (containsNull = true)\n",
      " |    |    |-- aircraftType: struct (nullable = true)\n",
      " |    |    |    |-- iata: string (nullable = true)\n",
      " |    |    |    |-- icao: string (nullable = true)\n",
      " |    |    |-- arrival: struct (nullable = true)\n",
      " |    |    |    |-- airport: struct (nullable = true)\n",
      " |    |    |    |    |-- faa: string (nullable = true)\n",
      " |    |    |    |    |-- iata: string (nullable = true)\n",
      " |    |    |    |    |-- icao: string (nullable = true)\n",
      " |    |    |    |-- date: struct (nullable = true)\n",
      " |    |    |    |    |-- local: string (nullable = true)\n",
      " |    |    |    |    |-- utc: string (nullable = true)\n",
      " |    |    |    |-- terminal: string (nullable = true)\n",
      " |    |    |    |-- time: struct (nullable = true)\n",
      " |    |    |    |    |-- local: string (nullable = true)\n",
      " |    |    |    |    |-- utc: string (nullable = true)\n",
      " |    |    |-- carrier: struct (nullable = true)\n",
      " |    |    |    |-- iata: string (nullable = true)\n",
      " |    |    |    |-- icao: string (nullable = true)\n",
      " |    |    |-- codeshare: struct (nullable = true)\n",
      " |    |    |    |-- aircraftOwner: struct (nullable = true)\n",
      " |    |    |    |    |-- code: string (nullable = true)\n",
      " |    |    |    |    |-- name: string (nullable = true)\n",
      " |    |    |    |-- cockpitCrewEmployer: struct (nullable = true)\n",
      " |    |    |    |    |-- code: string (nullable = true)\n",
      " |    |    |    |    |-- name: string (nullable = true)\n",
      " |    |    |    |    |-- number: string (nullable = true)\n",
      " |    |    |    |-- jointOperationAirlineDesignators: array (nullable = true)\n",
      " |    |    |    |    |-- element: string (containsNull = true)\n",
      " |    |    |    |-- marketingFlights: array (nullable = true)\n",
      " |    |    |    |    |-- element: struct (containsNull = true)\n",
      " |    |    |    |    |    |-- code: string (nullable = true)\n",
      " |    |    |    |    |    |-- serviceNumber: string (nullable = true)\n",
      " |    |    |    |    |    |-- suffix: string (nullable = true)\n",
      " |    |    |-- departure: struct (nullable = true)\n",
      " |    |    |    |-- airport: struct (nullable = true)\n",
      " |    |    |    |    |-- faa: string (nullable = true)\n",
      " |    |    |    |    |-- iata: string (nullable = true)\n",
      " |    |    |    |    |-- icao: string (nullable = true)\n",
      " |    |    |    |-- date: struct (nullable = true)\n",
      " |    |    |    |    |-- local: string (nullable = true)\n",
      " |    |    |    |    |-- utc: string (nullable = true)\n",
      " |    |    |    |-- terminal: string (nullable = true)\n",
      " |    |    |    |-- time: struct (nullable = true)\n",
      " |    |    |    |    |-- local: string (nullable = true)\n",
      " |    |    |    |    |-- utc: string (nullable = true)\n",
      " |    |    |-- elapsedTime: long (nullable = true)\n",
      " |    |    |-- flightNumber: long (nullable = true)\n",
      " |    |    |-- flightType: string (nullable = true)\n",
      " |    |    |-- scheduleInstanceKey: string (nullable = true)\n",
      " |    |    |-- segmentInfo: struct (nullable = true)\n",
      " |    |    |    |-- intermediateAirports: struct (nullable = true)\n",
      " |    |    |    |    |-- iata: array (nullable = true)\n",
      " |    |    |    |    |    |-- element: string (containsNull = true)\n",
      " |    |    |    |-- numberOfStops: long (nullable = true)\n",
      " |    |    |-- sequenceNumber: long (nullable = true)\n",
      " |    |    |-- serviceSuffix: string (nullable = true)\n",
      " |    |    |-- serviceType: struct (nullable = true)\n",
      " |    |    |    |-- iata: string (nullable = true)\n",
      " |    |    |-- statusDetails: array (nullable = true)\n",
      " |    |    |    |-- element: struct (containsNull = true)\n",
      " |    |    |    |    |-- arrival: struct (nullable = true)\n",
      " |    |    |    |    |    |-- actualTerminal: string (nullable = true)\n",
      " |    |    |    |    |    |-- actualTime: struct (nullable = true)\n",
      " |    |    |    |    |    |    |-- inGate: struct (nullable = true)\n",
      " |    |    |    |    |    |    |    |-- local: string (nullable = true)\n",
      " |    |    |    |    |    |    |    |-- utc: string (nullable = true)\n",
      " |    |    |    |    |    |    |-- inGateTimeliness: string (nullable = true)\n",
      " |    |    |    |    |    |    |-- inGateVariation: string (nullable = true)\n",
      " |    |    |    |    |    |    |-- onGround: struct (nullable = true)\n",
      " |    |    |    |    |    |    |    |-- local: string (nullable = true)\n",
      " |    |    |    |    |    |    |    |-- utc: string (nullable = true)\n",
      " |    |    |    |    |    |-- airport: struct (nullable = true)\n",
      " |    |    |    |    |    |    |-- faa: string (nullable = true)\n",
      " |    |    |    |    |    |    |-- iata: string (nullable = true)\n",
      " |    |    |    |    |    |    |-- icao: string (nullable = true)\n",
      " |    |    |    |    |    |-- baggage: string (nullable = true)\n",
      " |    |    |    |    |    |-- estimatedTime: struct (nullable = true)\n",
      " |    |    |    |    |    |    |-- inGate: struct (nullable = true)\n",
      " |    |    |    |    |    |    |    |-- local: string (nullable = true)\n",
      " |    |    |    |    |    |    |    |-- utc: string (nullable = true)\n",
      " |    |    |    |    |    |    |-- inGateTimeliness: string (nullable = true)\n",
      " |    |    |    |    |    |    |-- inGateVariation: string (nullable = true)\n",
      " |    |    |    |    |    |    |-- onGround: struct (nullable = true)\n",
      " |    |    |    |    |    |    |    |-- local: string (nullable = true)\n",
      " |    |    |    |    |    |    |    |-- utc: string (nullable = true)\n",
      " |    |    |    |    |    |-- gate: string (nullable = true)\n",
      " |    |    |    |    |-- departure: struct (nullable = true)\n",
      " |    |    |    |    |    |-- actualTerminal: string (nullable = true)\n",
      " |    |    |    |    |    |-- actualTime: struct (nullable = true)\n",
      " |    |    |    |    |    |    |-- offGround: struct (nullable = true)\n",
      " |    |    |    |    |    |    |    |-- local: string (nullable = true)\n",
      " |    |    |    |    |    |    |    |-- utc: string (nullable = true)\n",
      " |    |    |    |    |    |    |-- outGate: struct (nullable = true)\n",
      " |    |    |    |    |    |    |    |-- local: string (nullable = true)\n",
      " |    |    |    |    |    |    |    |-- utc: string (nullable = true)\n",
      " |    |    |    |    |    |    |-- outGateTimeliness: string (nullable = true)\n",
      " |    |    |    |    |    |    |-- outGateVariation: string (nullable = true)\n",
      " |    |    |    |    |    |-- airport: struct (nullable = true)\n",
      " |    |    |    |    |    |    |-- faa: string (nullable = true)\n",
      " |    |    |    |    |    |    |-- iata: string (nullable = true)\n",
      " |    |    |    |    |    |    |-- icao: string (nullable = true)\n",
      " |    |    |    |    |    |-- checkInCounter: string (nullable = true)\n",
      " |    |    |    |    |    |-- estimatedTime: struct (nullable = true)\n",
      " |    |    |    |    |    |    |-- offGround: struct (nullable = true)\n",
      " |    |    |    |    |    |    |    |-- local: string (nullable = true)\n",
      " |    |    |    |    |    |    |    |-- utc: string (nullable = true)\n",
      " |    |    |    |    |    |    |-- outGate: struct (nullable = true)\n",
      " |    |    |    |    |    |    |    |-- local: string (nullable = true)\n",
      " |    |    |    |    |    |    |    |-- utc: string (nullable = true)\n",
      " |    |    |    |    |    |    |-- outGateTimeliness: string (nullable = true)\n",
      " |    |    |    |    |    |    |-- outGateVariation: string (nullable = true)\n",
      " |    |    |    |    |    |-- gate: string (nullable = true)\n",
      " |    |    |    |    |-- equipment: struct (nullable = true)\n",
      " |    |    |    |    |    |-- actualAircraftType: struct (nullable = true)\n",
      " |    |    |    |    |    |    |-- iata: string (nullable = true)\n",
      " |    |    |    |    |    |    |-- icao: string (nullable = true)\n",
      " |    |    |    |    |    |-- aircraftRegistrationNumber: string (nullable = true)\n",
      " |    |    |    |    |-- state: string (nullable = true)\n",
      " |    |    |    |    |-- updatedAt: string (nullable = true)\n",
      " |    |    |-- statusKey: string (nullable = true)\n",
      " |-- paging: struct (nullable = true)\n",
      " |    |-- limit: long (nullable = true)\n",
      " |    |-- next: string (nullable = true)\n",
      " |    |-- totalCount: long (nullable = true)\n",
      " |    |-- totalPages: long (nullable = true)\n",
      "\n"
     ]
    },
    {
     "name": "stdout",
     "output_type": "stream",
     "text": [
      "+--------------------+--------------------+\n",
      "|                data|              paging|\n",
      "+--------------------+--------------------+\n",
      "|[{{773, NULL}, {{...|{10, https://api....|\n",
      "+--------------------+--------------------+\n",
      "\n"
     ]
    }
   ],
   "source": [
    "# Check data types in ADS-B data\n",
    "print(\"ADSB Data Schema:\")\n",
    "adsb_df.printSchema()\n",
    "adsb_df.show(5)\n",
    "\n",
    "# Check data types in OAG data\n",
    "print(\"OAG Data Schema:\")\n",
    "oag_df.printSchema()\n",
    "oag_df.show(5)"
   ]
  },
  {
   "cell_type": "markdown",
   "id": "c66d40df",
   "metadata": {},
   "source": [
    "# Step 4: Convert to a Single Data Type for Each Column\n",
    "For `adsb_df`\n",
    "If there are inconsistencies, let’s enforce consistent types. We’ll assume LastUpdate should be a timestamp and convert other columns accordingly:"
   ]
  },
  {
   "cell_type": "code",
   "execution_count": 24,
   "id": "acdcdc60",
   "metadata": {},
   "outputs": [],
   "source": [
    "from pyspark.sql.functions import col\n",
    "from pyspark.sql.types import StringType, FloatType, IntegerType, TimestampType\n",
    "\n",
    "# Convert Speed to FloatType if necessary\n",
    "adsb_df = adsb_df.withColumn(\"Speed\", col(\"Speed\").cast(FloatType()))\n",
    "\n",
    "# Convert LastUpdate to TimestampType if necessary\n",
    "adsb_df = adsb_df.withColumn(\"LastUpdate\", col(\"LastUpdate\").cast(TimestampType()))\n",
    "\n",
    "\n",
    "from pyspark.sql.types import IntegerType, DoubleType, StringType, TimestampType\n",
    "from pyspark.sql.functions import from_unixtime, col\n",
    "\n",
    "# Ensure consistent data types for relevant columns\n",
    "adsb_df = adsb_df.withColumn(\"AircraftId\", col(\"AircraftId\").cast(StringType())) \\\n",
    "    .withColumn(\"Latitude\", col(\"Latitude\").cast(DoubleType())) \\\n",
    "    .withColumn(\"Longitude\", col(\"Longitude\").cast(DoubleType())) \\\n",
    "    .withColumn(\"Track\", col(\"Track\").cast(IntegerType())) \\\n",
    "    .withColumn(\"Altitude\", col(\"Altitude\").cast(IntegerType())) \\\n",
    "    .withColumn(\"Speed\", col(\"Speed\").cast(IntegerType())) \\\n",
    "    .withColumn(\"Squawk\", col(\"Squawk\").cast(StringType())) \\\n",
    "    .withColumn(\"LastUpdate\", col(\"LastUpdate\").cast(TimestampType()))\n"
   ]
  },
  {
   "cell_type": "markdown",
   "id": "a3c7ced0",
   "metadata": {},
   "source": [
    "For `oag_df`\n",
    "We’ll flatten the nested structure and ensure each column has a consistent type. Here, OutGateTime and InGateTime are timestamps, and we’ll handle any array types in the flattening process."
   ]
  },
  {
   "cell_type": "code",
   "execution_count": 25,
   "id": "9498862d",
   "metadata": {},
   "outputs": [],
   "source": [
    "from pyspark.sql.functions import explode\n",
    "\n",
    "# Flatten nested structures and select relevant fields\n",
    "oag_df_flat = oag_df.select(\n",
    "    col(\"data.flightNumber\").alias(\"FlightNumber\"),\n",
    "    col(\"data.departure.airport.iata\").alias(\"DepartureAirport\"),\n",
    "    col(\"data.arrival.airport.iata\").alias(\"ArrivalAirport\"),\n",
    "    explode(\"data.statusDetails\").alias(\"StatusDetail\")\n",
    ")\n",
    "\n",
    "# Extract and convert fields from the flattened status details\n",
    "oag_df_flat = oag_df_flat.select(\n",
    "    col(\"FlightNumber\").cast(StringType()),\n",
    "    col(\"DepartureAirport\").cast(StringType()),\n",
    "    col(\"ArrivalAirport\").cast(StringType()),\n",
    "    col(\"StatusDetail.state\").alias(\"FlightStatus\").cast(StringType()),\n",
    "    col(\"StatusDetail.departure.actualTime.outGate.local\")[0].alias(\"OutGateTime\").cast(TimestampType()),\n",
    "    col(\"StatusDetail.arrival.actualTime.inGate.local\")[0].alias(\"InGateTime\").cast(TimestampType())\n",
    ")"
   ]
  },
  {
   "cell_type": "markdown",
   "id": "27bd4f69",
   "metadata": {},
   "source": [
    "# Step 5: Perform Analysis\n",
    "Now that data types are consistent and clean, we can calculate the KPIs.\n",
    "\n",
    "## Example 1: Average Speed per Airport (from `adsb_df`)"
   ]
  },
  {
   "cell_type": "code",
   "execution_count": 26,
   "id": "055a970c",
   "metadata": {},
   "outputs": [
    {
     "name": "stdout",
     "output_type": "stream",
     "text": [
      "+------+------------+\n",
      "|Origin|AverageSpeed|\n",
      "+------+------------+\n",
      "|   GUA|       170.0|\n",
      "|   DOH|       250.0|\n",
      "|   SGN|         0.5|\n",
      "|   IAD|       170.0|\n",
      "+------+------------+\n",
      "\n"
     ]
    }
   ],
   "source": [
    "from pyspark.sql.functions import avg\n",
    "\n",
    "# Calculate average speed per airport (by Origin)\n",
    "avg_speed_df = adsb_df.groupBy(\"Origin\").agg(avg(\"Speed\").alias(\"AverageSpeed\"))\n",
    "avg_speed_df.show()"
   ]
  },
  {
   "cell_type": "markdown",
   "id": "18f55daa",
   "metadata": {},
   "source": [
    "## Example 2: Count of Delayed Flights (from `oag_df_flat`)\n",
    "We’ll count delayed flights based on the FlightStatus field, assuming Delayed indicates a delay."
   ]
  },
  {
   "cell_type": "code",
   "execution_count": 27,
   "id": "ecac6c41",
   "metadata": {},
   "outputs": [
    {
     "name": "stdout",
     "output_type": "stream",
     "text": [
      "+--------------------+--------------------+------------------+--------------------+\n",
      "|    DepartureAirport|      ArrivalAirport|TotalArrivalDelays|TotalDepartureDelays|\n",
      "+--------------------+--------------------+------------------+--------------------+\n",
      "|[SGN, DOH, SDF, G...|[ICN, SYZ, YHM, M...|                10|                  10|\n",
      "+--------------------+--------------------+------------------+--------------------+\n",
      "\n"
     ]
    }
   ],
   "source": [
    "from pyspark.sql.functions import count, when\n",
    "\n",
    "# Calculate number of delayed flights by airport\n",
    "delayed_flights_df = oag_df_flat.withColumn(\n",
    "    \"ArrivalDelay\", when(col(\"FlightStatus\") == \"Delayed\", 1).otherwise(0)\n",
    ").withColumn(\n",
    "    \"DepartureDelay\", when(col(\"FlightStatus\") == \"Delayed\", 1).otherwise(0)\n",
    ")\n",
    "\n",
    "# Summarize delays by departure and arrival airport\n",
    "delayed_summary_df = delayed_flights_df.groupBy(\"DepartureAirport\", \"ArrivalAirport\").agg(\n",
    "    count(\"ArrivalDelay\").alias(\"TotalArrivalDelays\"),\n",
    "    count(\"DepartureDelay\").alias(\"TotalDepartureDelays\")\n",
    ")\n",
    "delayed_summary_df.show()"
   ]
  },
  {
   "cell_type": "markdown",
   "id": "f365eff9",
   "metadata": {},
   "source": [
    "## Example 3: Get Latest Flight Entry for Each Flight (Window Function)\n",
    "Using a window function, we filter the latest `OutGateTime` entry for each flight."
   ]
  },
  {
   "cell_type": "code",
   "execution_count": 28,
   "id": "355386e9",
   "metadata": {},
   "outputs": [
    {
     "name": "stdout",
     "output_type": "stream",
     "text": [
      "+--------------------+-------------------+-------------------+\n",
      "|        FlightNumber|        OutGateTime|         InGateTime|\n",
      "+--------------------+-------------------+-------------------+\n",
      "|[476, 476, 476, 4...|2023-10-03 20:54:00|2023-10-03 23:35:00|\n",
      "+--------------------+-------------------+-------------------+\n",
      "\n"
     ]
    }
   ],
   "source": [
    "from pyspark.sql.window import Window\n",
    "from pyspark.sql.functions import row_number\n",
    "\n",
    "# Define a window by FlightNumber, ordered by OutGateTime\n",
    "window_spec = Window.partitionBy(\"FlightNumber\").orderBy(col(\"OutGateTime\").desc())\n",
    "\n",
    "# Filter to get only the latest entry per flight\n",
    "latest_flights_df = oag_df_flat.withColumn(\"row_num\", row_number().over(window_spec)) \\\n",
    "    .filter(col(\"row_num\") == 1) \\\n",
    "    .select(\"FlightNumber\", \"OutGateTime\", \"InGateTime\")\n",
    "\n",
    "latest_flights_df.show()"
   ]
  },
  {
   "cell_type": "code",
   "execution_count": null,
   "id": "2231d337",
   "metadata": {},
   "outputs": [],
   "source": []
  }
 ],
 "metadata": {
  "kernelspec": {
   "display_name": "Python 3 (ipykernel)",
   "language": "python",
   "name": "python3"
  },
  "language_info": {
   "codemirror_mode": {
    "name": "ipython",
    "version": 3
   },
   "file_extension": ".py",
   "mimetype": "text/x-python",
   "name": "python",
   "nbconvert_exporter": "python",
   "pygments_lexer": "ipython3",
   "version": "3.10.4"
  }
 },
 "nbformat": 4,
 "nbformat_minor": 5
}
